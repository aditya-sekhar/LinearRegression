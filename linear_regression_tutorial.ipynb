{
 "cells": [
  {
   "cell_type": "code",
   "execution_count": null,
   "metadata": {},
   "outputs": [],
   "source": [
    "# Load the data\n",
    "import pandas as pd\n",
    "df = pd.read_csv('simple_housing_dataset.csv')\n",
    "x = df['area']\n",
    "y = df['price']\n",
    "# normalize the data by dividing by the maximum value\n",
    "x = x / x.max()\n",
    "y = y / y.max()"
   ]
  },
  {
   "cell_type": "code",
   "execution_count": null,
   "metadata": {},
   "outputs": [],
   "source": [
    "# Create mode with scikit-learn \n",
    "from sklearn.linear_model import LinearRegression\n",
    "\n",
    "sk_model = LinearRegression()\n",
    "sk_model.fit(x.values.reshape(-1, 1), y)\n"
   ]
  },
  {
   "cell_type": "code",
   "execution_count": null,
   "metadata": {},
   "outputs": [],
   "source": [
    "# train model with SimpleLinearRegression \n",
    "from SimpleLinearRegression import SimpleLinearRegression\n",
    "\n",
    "my_model = SimpleLinearRegression()\n",
    "lr = 3.0e-1\n",
    "epochs = 1000\n",
    "my_model.fit(x, y, lr, epochs)\n"
   ]
  },
  {
   "cell_type": "code",
   "execution_count": null,
   "metadata": {},
   "outputs": [],
   "source": [
    "print(f'my_model == weights: {my_model.w}, bias: {my_model.b}')\n",
    "print(f'sk_model == weights: {sk_model.coef_[0]}, bias: {sk_model.intercept_}')"
   ]
  },
  {
   "cell_type": "code",
   "execution_count": null,
   "metadata": {},
   "outputs": [],
   "source": [
    "# predict the price of a 750 sq. ft. house with both models\n",
    "print(my_model.predict(750 / x.max()))\n",
    "print(sk_model.predict([[750 / x.max()]]))"
   ]
  }
 ],
 "metadata": {
  "kernelspec": {
   "display_name": "base",
   "language": "python",
   "name": "python3"
  },
  "language_info": {
   "codemirror_mode": {
    "name": "ipython",
    "version": 3
   },
   "file_extension": ".py",
   "mimetype": "text/x-python",
   "name": "python",
   "nbconvert_exporter": "python",
   "pygments_lexer": "ipython3",
   "version": "3.11.5"
  }
 },
 "nbformat": 4,
 "nbformat_minor": 2
}
