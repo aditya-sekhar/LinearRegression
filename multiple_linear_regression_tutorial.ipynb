{
 "cells": [
  {
   "cell_type": "code",
   "execution_count": 44,
   "metadata": {},
   "outputs": [
    {
     "name": "stdout",
     "output_type": "stream",
     "text": [
      "   Unnamed: 0  area  bedrooms  bathrooms  stories mainroad guestroom basement  \\\n",
      "0         459  3500         2          1        1      yes        no       no   \n",
      "1         348  3150         2          2        1       no        no      yes   \n",
      "2         290  2610         4          3        2       no        no       no   \n",
      "3         512  3000         2          1        2      yes        no       no   \n",
      "4          41  6360         3          2        4      yes        no       no   \n",
      "\n",
      "  hotwaterheating airconditioning  parking prefarea furnishingstatus    price  \n",
      "0              no              no        0       no      unfurnished  3115000  \n",
      "1              no              no        0       no   semi-furnished  3815000  \n",
      "2              no              no        0       no   semi-furnished  4200000  \n",
      "3              no              no        0       no        furnished  2520000  \n",
      "4              no             yes        0      yes        furnished  7840000  \n"
     ]
    }
   ],
   "source": [
    "# import the data\n",
    "import pandas as pd\n",
    "\n",
    "# read the data\n",
    "data = pd.read_csv('multiple_housing_dataset.csv')\n",
    "\n",
    "# print the first 5 rows of the data\n",
    "print(data.head())"
   ]
  },
  {
   "cell_type": "code",
   "execution_count": 45,
   "metadata": {},
   "outputs": [
    {
     "name": "stdout",
     "output_type": "stream",
     "text": [
      "   area  bedrooms  bathrooms    price\n",
      "0  3500         2          1  3115000\n",
      "1  3150         2          2  3815000\n",
      "2  2610         4          3  4200000\n",
      "3  3000         2          1  2520000\n",
      "4  6360         3          2  7840000\n"
     ]
    }
   ],
   "source": [
    "# create a new df with only area, bedrooms, and price   \n",
    "df = data[['area', 'bedrooms','bathrooms', 'stories' 'price',]]\n",
    "print(df.head())"
   ]
  },
  {
   "cell_type": "code",
   "execution_count": 46,
   "metadata": {},
   "outputs": [
    {
     "name": "stderr",
     "output_type": "stream",
     "text": [
      "/var/folders/tx/67qpks5s7qn261k0v0hgqqdc0000gq/T/ipykernel_18178/3577511940.py:2: SettingWithCopyWarning: \n",
      "A value is trying to be set on a copy of a slice from a DataFrame.\n",
      "Try using .loc[row_indexer,col_indexer] = value instead\n",
      "\n",
      "See the caveats in the documentation: https://pandas.pydata.org/pandas-docs/stable/user_guide/indexing.html#returning-a-view-versus-a-copy\n",
      "  df['area'] = df['area']/df['area'].max()\n",
      "/var/folders/tx/67qpks5s7qn261k0v0hgqqdc0000gq/T/ipykernel_18178/3577511940.py:3: SettingWithCopyWarning: \n",
      "A value is trying to be set on a copy of a slice from a DataFrame.\n",
      "Try using .loc[row_indexer,col_indexer] = value instead\n",
      "\n",
      "See the caveats in the documentation: https://pandas.pydata.org/pandas-docs/stable/user_guide/indexing.html#returning-a-view-versus-a-copy\n",
      "  df['bedrooms'] = df['bedrooms']/df['bedrooms'].max()\n",
      "/var/folders/tx/67qpks5s7qn261k0v0hgqqdc0000gq/T/ipykernel_18178/3577511940.py:4: SettingWithCopyWarning: \n",
      "A value is trying to be set on a copy of a slice from a DataFrame.\n",
      "Try using .loc[row_indexer,col_indexer] = value instead\n",
      "\n",
      "See the caveats in the documentation: https://pandas.pydata.org/pandas-docs/stable/user_guide/indexing.html#returning-a-view-versus-a-copy\n",
      "  df['bathrooms'] = df['bathrooms']/df['bathrooms'].max()\n",
      "/var/folders/tx/67qpks5s7qn261k0v0hgqqdc0000gq/T/ipykernel_18178/3577511940.py:5: SettingWithCopyWarning: \n",
      "A value is trying to be set on a copy of a slice from a DataFrame.\n",
      "Try using .loc[row_indexer,col_indexer] = value instead\n",
      "\n",
      "See the caveats in the documentation: https://pandas.pydata.org/pandas-docs/stable/user_guide/indexing.html#returning-a-view-versus-a-copy\n",
      "  df['price'] = df['price']/ df['price'].max()\n"
     ]
    }
   ],
   "source": [
    "# create X and y with normalizing\n",
    "df['area'] = df['area']/df['area'].max()\n",
    "df['bedrooms'] = df['bedrooms']/df['bedrooms'].max()\n",
    "df['bathrooms'] = df['bathrooms']/df['bathrooms'].max()\n",
    "df['price'] = df['price']/ df['price'].max()\n",
    "\n",
    "\n",
    "# create X and y\n",
    "X = df[['area', 'bedrooms', 'bathrooms']]\n",
    "y = df['price']\n",
    "\n"
   ]
  },
  {
   "cell_type": "code",
   "execution_count": 47,
   "metadata": {},
   "outputs": [
    {
     "name": "stdout",
     "output_type": "stream",
     "text": [
      " 0 Cost: 0.074548 | w: [0.00053518 0.00064814 0.00049809] | b: 0.0010710000000000001\n",
      " 100 Cost: 0.031062 | w: [0.04268649 0.05097442 0.03942334] | b: 0.08371022061592345\n",
      " 200 Cost: 0.015829 | w: [0.06875682 0.08081288 0.06295483] | b: 0.13176260227229905\n",
      " 300 Cost: 0.010475 | w: [0.08530875 0.09853776 0.07738062] | b: 0.15937076171480646\n",
      " 400 Cost: 0.008574 | w: [0.0962227  0.10910052 0.08641875] | b: 0.1748968331210035\n",
      " 500 Cost: 0.007882 | w: [0.10379312 0.11542885 0.0922676 ] | b: 0.18328509362587794\n",
      " 600 Cost: 0.007612 | w: [0.10937677 0.11925381 0.09622706] | b: 0.18745892578704335\n",
      " 700 Cost: 0.007490 | w: [0.11377595 0.1215989  0.09906575] | b: 0.18914680719041915\n",
      " 800 Cost: 0.007421 | w: [0.11746512 0.12306931 0.10123815] | b: 0.18937069782208985\n",
      " 900 Cost: 0.007370 | w: [0.12072492 0.12402286 0.10301301] | b: 0.18873481152782254\n"
     ]
    }
   ],
   "source": [
    "# fit using workspace MultipleLinearRegression\n",
    "\n",
    "from MultipleLinearRegression import MultipleLinearRegression\n",
    "\n",
    "X = df[['area', 'bedrooms', 'bathrooms']].values\n",
    "y = df['price'].values\n",
    "init_w = [0, 0, 0]\n",
    "init_bias = 0\n",
    "my_model = MultipleLinearRegression(init_w, init_bias)\n",
    "my_model.vectorized_fit(X, y, 0.003, 1000)\n"
   ]
  },
  {
   "cell_type": "code",
   "execution_count": 48,
   "metadata": {},
   "outputs": [
    {
     "data": {
      "text/html": [
       "<style>#sk-container-id-5 {color: black;}#sk-container-id-5 pre{padding: 0;}#sk-container-id-5 div.sk-toggleable {background-color: white;}#sk-container-id-5 label.sk-toggleable__label {cursor: pointer;display: block;width: 100%;margin-bottom: 0;padding: 0.3em;box-sizing: border-box;text-align: center;}#sk-container-id-5 label.sk-toggleable__label-arrow:before {content: \"▸\";float: left;margin-right: 0.25em;color: #696969;}#sk-container-id-5 label.sk-toggleable__label-arrow:hover:before {color: black;}#sk-container-id-5 div.sk-estimator:hover label.sk-toggleable__label-arrow:before {color: black;}#sk-container-id-5 div.sk-toggleable__content {max-height: 0;max-width: 0;overflow: hidden;text-align: left;background-color: #f0f8ff;}#sk-container-id-5 div.sk-toggleable__content pre {margin: 0.2em;color: black;border-radius: 0.25em;background-color: #f0f8ff;}#sk-container-id-5 input.sk-toggleable__control:checked~div.sk-toggleable__content {max-height: 200px;max-width: 100%;overflow: auto;}#sk-container-id-5 input.sk-toggleable__control:checked~label.sk-toggleable__label-arrow:before {content: \"▾\";}#sk-container-id-5 div.sk-estimator input.sk-toggleable__control:checked~label.sk-toggleable__label {background-color: #d4ebff;}#sk-container-id-5 div.sk-label input.sk-toggleable__control:checked~label.sk-toggleable__label {background-color: #d4ebff;}#sk-container-id-5 input.sk-hidden--visually {border: 0;clip: rect(1px 1px 1px 1px);clip: rect(1px, 1px, 1px, 1px);height: 1px;margin: -1px;overflow: hidden;padding: 0;position: absolute;width: 1px;}#sk-container-id-5 div.sk-estimator {font-family: monospace;background-color: #f0f8ff;border: 1px dotted black;border-radius: 0.25em;box-sizing: border-box;margin-bottom: 0.5em;}#sk-container-id-5 div.sk-estimator:hover {background-color: #d4ebff;}#sk-container-id-5 div.sk-parallel-item::after {content: \"\";width: 100%;border-bottom: 1px solid gray;flex-grow: 1;}#sk-container-id-5 div.sk-label:hover label.sk-toggleable__label {background-color: #d4ebff;}#sk-container-id-5 div.sk-serial::before {content: \"\";position: absolute;border-left: 1px solid gray;box-sizing: border-box;top: 0;bottom: 0;left: 50%;z-index: 0;}#sk-container-id-5 div.sk-serial {display: flex;flex-direction: column;align-items: center;background-color: white;padding-right: 0.2em;padding-left: 0.2em;position: relative;}#sk-container-id-5 div.sk-item {position: relative;z-index: 1;}#sk-container-id-5 div.sk-parallel {display: flex;align-items: stretch;justify-content: center;background-color: white;position: relative;}#sk-container-id-5 div.sk-item::before, #sk-container-id-5 div.sk-parallel-item::before {content: \"\";position: absolute;border-left: 1px solid gray;box-sizing: border-box;top: 0;bottom: 0;left: 50%;z-index: -1;}#sk-container-id-5 div.sk-parallel-item {display: flex;flex-direction: column;z-index: 1;position: relative;background-color: white;}#sk-container-id-5 div.sk-parallel-item:first-child::after {align-self: flex-end;width: 50%;}#sk-container-id-5 div.sk-parallel-item:last-child::after {align-self: flex-start;width: 50%;}#sk-container-id-5 div.sk-parallel-item:only-child::after {width: 0;}#sk-container-id-5 div.sk-dashed-wrapped {border: 1px dashed gray;margin: 0 0.4em 0.5em 0.4em;box-sizing: border-box;padding-bottom: 0.4em;background-color: white;}#sk-container-id-5 div.sk-label label {font-family: monospace;font-weight: bold;display: inline-block;line-height: 1.2em;}#sk-container-id-5 div.sk-label-container {text-align: center;}#sk-container-id-5 div.sk-container {/* jupyter's `normalize.less` sets `[hidden] { display: none; }` but bootstrap.min.css set `[hidden] { display: none !important; }` so we also need the `!important` here to be able to override the default hidden behavior on the sphinx rendered scikit-learn.org. See: https://github.com/scikit-learn/scikit-learn/issues/21755 */display: inline-block !important;position: relative;}#sk-container-id-5 div.sk-text-repr-fallback {display: none;}</style><div id=\"sk-container-id-5\" class=\"sk-top-container\"><div class=\"sk-text-repr-fallback\"><pre>LinearRegression()</pre><b>In a Jupyter environment, please rerun this cell to show the HTML representation or trust the notebook. <br />On GitHub, the HTML representation is unable to render, please try loading this page with nbviewer.org.</b></div><div class=\"sk-container\" hidden><div class=\"sk-item\"><div class=\"sk-estimator sk-toggleable\"><input class=\"sk-toggleable__control sk-hidden--visually\" id=\"sk-estimator-id-5\" type=\"checkbox\" checked><label for=\"sk-estimator-id-5\" class=\"sk-toggleable__label sk-toggleable__label-arrow\">LinearRegression</label><div class=\"sk-toggleable__content\"><pre>LinearRegression()</pre></div></div></div></div></div>"
      ],
      "text/plain": [
       "LinearRegression()"
      ]
     },
     "execution_count": 48,
     "metadata": {},
     "output_type": "execute_result"
    }
   ],
   "source": [
    "# Use sklearn to fit the model\n",
    "from sklearn.linear_model import LinearRegression\n",
    "\n",
    "sk_model = LinearRegression()\n",
    "sk_model.fit(X, y)\n"
   ]
  },
  {
   "cell_type": "code",
   "execution_count": 49,
   "metadata": {},
   "outputs": [
    {
     "name": "stdout",
     "output_type": "stream",
     "text": [
      "[0.12369232 0.12466567 0.10453474]\n",
      "0.18760945181071323\n",
      "[0.42297445 0.21270942 0.26205305]\n",
      "-0.0715100257982283\n"
     ]
    }
   ],
   "source": [
    "# print weights and bias from workspace model\n",
    "print(my_model.w)\n",
    "print(my_model.b)\n",
    "\n",
    "# print weights and bias from sklearn model\n",
    "print(sk_model.coef_)\n",
    "print(sk_model.intercept_)"
   ]
  },
  {
   "cell_type": "code",
   "execution_count": 50,
   "metadata": {},
   "outputs": [
    {
     "data": {
      "image/png": "[encoded data removed]",
      "text/plain": [
       "<Figure size 640x480 with 1 Axes>"
      ]
     },
     "metadata": {},
     "output_type": "display_data"
    },
    {
     "data": {
      "image/png": "[encoded data removed]",
      "text/plain": [
       "<Figure size 640x480 with 1 Axes>"
      ]
     },
     "metadata": {},
     "output_type": "display_data"
    }
   ],
   "source": [
    "# plot the weights and bias from workspace model\n",
    "\n",
    "import matplotlib.pyplot as plt\n",
    "\n",
    "plt.plot(my_model.w, label='weights')\n",
    "plt.plot(my_model.b, label='bias')\n",
    "plt.legend()\n",
    "plt.show()\n",
    "\n",
    "# plot the weights and bias from sklearn model\n",
    "plt.plot(sk_model.coef_, label='weights')\n",
    "plt.plot(sk_model.intercept_, label='bias')\n",
    "plt.legend()\n",
    "plt.show()\n"
   ]
  },
  {
   "cell_type": "code",
   "execution_count": 51,
   "metadata": {},
   "outputs": [
    {
     "name": "stdout",
     "output_type": "stream",
     "text": [
      "[0.31106096 0.34203184 0.42076594 0.30552663 0.40249538 0.3123892\n",
      " 0.38190767 0.37567525 0.33209142 0.32614298 0.33577272 0.35573028\n",
      " 0.32810213 0.39889274 0.33488723 0.31271019 0.29640605 0.37927257\n",
      " 0.33743302 0.36820584 0.33045976 0.38669508 0.40847246 0.33621547\n",
      " 0.38497487 0.31659529 0.31703804 0.44995858 0.36314096 0.36421919\n",
      " 0.41491443 0.31119378 0.31083958 0.42094609 0.37694815 0.46996083\n",
      " 0.33762575 0.33045976 0.36349972 0.34706276 0.42942088 0.40515186\n",
      " 0.40515186 0.35303983 0.30844875 0.4234438  0.38821224 0.37163519\n",
      " 0.33873262 0.32415062 0.34703412 0.33278418 0.38522827 0.32722121\n",
      " 0.37030695 0.40630875 0.37088902 0.3367689  0.36831459 0.3423639\n",
      " 0.30757433 0.38857025 0.39023055 0.3641085  0.32323649 0.34374216\n",
      " 0.4068408  0.404045   0.31349606 0.35754935 0.30552663 0.4391613\n",
      " 0.331788   0.35038336 0.44234258 0.36529741 0.36366575 0.30202893\n",
      " 0.34235857 0.34867878 0.45664979 0.35254707 0.44831965 0.331788\n",
      " 0.4168026  0.33610478 0.4063908  0.37729128 0.31128233 0.32116208\n",
      " 0.38358935 0.37238862 0.37039626 0.37473442 0.40712285 0.35343831\n",
      " 0.32913152 0.32658573 0.31017546 0.32655709]\n"
     ]
    }
   ],
   "source": [
    "# predict using both the models\n",
    "\n",
    "# predict using workspace model\n",
    "y_pred = my_model.predict(X)\n",
    "print(y_pred)\n"
   ]
  }
 ],
 "metadata": {
  "kernelspec": {
   "display_name": "base",
   "language": "python",
   "name": "python3"
  },
  "language_info": {
   "codemirror_mode": {
    "name": "ipython",
    "version": 3
   },
   "file_extension": ".py",
   "mimetype": "text/x-python",
   "name": "python",
   "nbconvert_exporter": "python",
   "pygments_lexer": "ipython3",
   "version": "3.11.5"
  }
 },
 "nbformat": 4,
 "nbformat_minor": 2
}
